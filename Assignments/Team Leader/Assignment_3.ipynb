{
  "nbformat": 4,
  "nbformat_minor": 0,
  "metadata": {
    "colab": {
      "provenance": []
    },
    "kernelspec": {
      "name": "python3",
      "display_name": "Python 3"
    },
    "language_info": {
      "name": "python"
    }
  },
  "cells": [
    {
      "cell_type": "markdown",
      "source": [
        "# **Importing necessary Libraries**"
      ],
      "metadata": {
        "id": "RJtPo3zok1wY"
      }
    },
    {
      "cell_type": "code",
      "execution_count": null,
      "metadata": {
        "id": "k7gLZWuOAqYk"
      },
      "outputs": [],
      "source": [
        "import warnings\n",
        "warnings.filterwarnings(\"ignore\")"
      ]
    },
    {
      "cell_type": "code",
      "source": [
        "import numpy as np\n",
        "import matplotlib.pyplot as plt\n",
        "import pandas as pd\n",
        "from tensorflow.keras.models import Sequential\n",
        "from tensorflow.keras.layers import Dense,Activation,Dropout,Conv2D,Flatten,MaxPool2D,Reshape,InputLayer\n",
        "from tensorflow.keras.applications.resnet50 import ResNet50\n",
        "from tensorflow.keras.applications.resnet50 import preprocess_input\n",
        "from tensorflow.keras.preprocessing import image\n",
        "from tensorflow.keras.preprocessing.image import ImageDataGenerator,load_img,img_to_array\n",
        "from tensorflow.keras.callbacks import EarlyStopping, ReduceLROnPlateau"
      ],
      "metadata": {
        "id": "RorHo4r2AwTt"
      },
      "execution_count": null,
      "outputs": []
    },
    {
      "cell_type": "markdown",
      "source": [
        "# **Data Augumentation**\n",
        "Dataset consist of 5 classes.\n",
        "\n",
        "Daisy - European Species of Aster family.\n",
        "\n",
        "Sunflower - Identified as the genus of Helianthus.\n",
        "\n",
        "Tulip - Belong to the species of spring blooming geophytes.\n",
        "\n",
        "Rose - Belongs to the family of rosaceae.\n",
        "\n",
        "Dandelion - Indentifies as the genus of Asterceae."
      ],
      "metadata": {
        "id": "6SKbX87lksrg"
      }
    },
    {
      "cell_type": "code",
      "source": [
        "from google.colab import drive\n",
        "drive.mount('/content/drive')"
      ],
      "metadata": {
        "colab": {
          "base_uri": "https://localhost:8080/"
        },
        "id": "_zgluvYQAwQL",
        "outputId": "9b57e5e3-9974-43a9-842c-19b61e5a82a9"
      },
      "execution_count": null,
      "outputs": [
        {
          "output_type": "stream",
          "name": "stdout",
          "text": [
            "Drive already mounted at /content/drive; to attempt to forcibly remount, call drive.mount(\"/content/drive\", force_remount=True).\n"
          ]
        }
      ]
    },
    {
      "cell_type": "code",
      "source": [
        "path = '/content/drive/MyDrive/Flowers-Dataset/flowers'"
      ],
      "metadata": {
        "id": "Mh1jvDKZAwNV"
      },
      "execution_count": null,
      "outputs": []
    },
    {
      "cell_type": "code",
      "source": [
        "train_data_gen = ImageDataGenerator(rescale = 1./255,\n",
        "                             shear_range = 0.2,\n",
        "                             zoom_range = 0.2,\n",
        "                             horizontal_flip = True,\n",
        "                             validation_split = 0.30)\n",
        "test_data_gen = ImageDataGenerator(rescale = 1./255,validation_split = 0.30)"
      ],
      "metadata": {
        "id": "g-21uO7EAwKf"
      },
      "execution_count": null,
      "outputs": []
    },
    {
      "cell_type": "code",
      "source": [
        "training_set = train_data_gen.flow_from_directory(path,\n",
        "                                                 target_size=(64,64),\n",
        "                                                 batch_size=100,\n",
        "                                                 class_mode='categorical',\n",
        "                                                 shuffle=True,\n",
        "                                                 color_mode='rgb',\n",
        "                                                 subset = 'training')\n",
        "\n",
        "testing_set = test_data_gen.flow_from_directory(path,\n",
        "                                                 target_size=(64,64),\n",
        "                                                 batch_size=100,\n",
        "                                                 class_mode='categorical',\n",
        "                                                 shuffle=True,\n",
        "                                                 color_mode='rgb',\n",
        "                                                 subset = 'validation')"
      ],
      "metadata": {
        "colab": {
          "base_uri": "https://localhost:8080/"
        },
        "id": "nT8nprIUAwHn",
        "outputId": "b3f74cb3-75fe-4faf-8823-e29bb7317674"
      },
      "execution_count": null,
      "outputs": [
        {
          "output_type": "stream",
          "name": "stdout",
          "text": [
            "Found 3038 images belonging to 5 classes.\n",
            "Found 1299 images belonging to 5 classes.\n"
          ]
        }
      ]
    },
    {
      "cell_type": "markdown",
      "source": [
        "# **Model building using CNN**"
      ],
      "metadata": {
        "id": "AJ7BpNIYkl2B"
      }
    },
    {
      "cell_type": "code",
      "source": [
        "model = Sequential()\n",
        "\n",
        "#convolution and Pooling layer 1\n",
        "model.add(Conv2D(filters=48,kernel_size=3,activation='relu',input_shape=(64,64,3)))\n",
        "model.add(MaxPool2D(pool_size=2,strides=2))\n",
        "model.add(Dropout(0.2))\n",
        "\n",
        "#convolution and Pooling layer 2\n",
        "model.add(Conv2D(filters=32,kernel_size=3,activation='relu'))\n",
        "model.add(MaxPool2D(pool_size=2,strides=2))\n",
        "model.add(Dropout(0.2))\n",
        "\n",
        "#Flattening the images\n",
        "model.add(Flatten())\n",
        "\n",
        "#Fully Connected layers\n",
        "model.add(Dense(64,activation='relu'))\n",
        "model.add(Dropout(0.2))\n",
        "model.add(Dense(5,activation='softmax'))"
      ],
      "metadata": {
        "id": "uaKyCTNqAwFE"
      },
      "execution_count": null,
      "outputs": []
    },
    {
      "cell_type": "code",
      "source": [
        "model.summary()"
      ],
      "metadata": {
        "colab": {
          "base_uri": "https://localhost:8080/"
        },
        "id": "WHmQ-SZ8AwCM",
        "outputId": "6b763e95-614d-4f69-dcb3-66ea36a0e3b8"
      },
      "execution_count": null,
      "outputs": [
        {
          "output_type": "stream",
          "name": "stdout",
          "text": [
            "Model: \"sequential\"\n",
            "_________________________________________________________________\n",
            " Layer (type)                Output Shape              Param #   \n",
            "=================================================================\n",
            " conv2d (Conv2D)             (None, 62, 62, 48)        1344      \n",
            "                                                                 \n",
            " max_pooling2d (MaxPooling2D  (None, 31, 31, 48)       0         \n",
            " )                                                               \n",
            "                                                                 \n",
            " dropout (Dropout)           (None, 31, 31, 48)        0         \n",
            "                                                                 \n",
            " conv2d_1 (Conv2D)           (None, 29, 29, 32)        13856     \n",
            "                                                                 \n",
            " max_pooling2d_1 (MaxPooling  (None, 14, 14, 32)       0         \n",
            " 2D)                                                             \n",
            "                                                                 \n",
            " dropout_1 (Dropout)         (None, 14, 14, 32)        0         \n",
            "                                                                 \n",
            " flatten (Flatten)           (None, 6272)              0         \n",
            "                                                                 \n",
            " dense (Dense)               (None, 64)                401472    \n",
            "                                                                 \n",
            " dropout_2 (Dropout)         (None, 64)                0         \n",
            "                                                                 \n",
            " dense_1 (Dense)             (None, 5)                 325       \n",
            "                                                                 \n",
            "=================================================================\n",
            "Total params: 416,997\n",
            "Trainable params: 416,997\n",
            "Non-trainable params: 0\n",
            "_________________________________________________________________\n"
          ]
        }
      ]
    },
    {
      "cell_type": "markdown",
      "source": [
        "# **Compile the Model**"
      ],
      "metadata": {
        "id": "L80v2p9cke70"
      }
    },
    {
      "cell_type": "code",
      "source": [
        "model.compile(loss='categorical_crossentropy',optimizer='adam',metrics=['accuracy'])"
      ],
      "metadata": {
        "id": "lQdYgRorAv_R"
      },
      "execution_count": null,
      "outputs": []
    },
    {
      "cell_type": "markdown",
      "source": [
        "# **Adding callbacks to avoid overfitting**"
      ],
      "metadata": {
        "id": "ttZ2F34TkWEQ"
      }
    },
    {
      "cell_type": "code",
      "source": [
        "early_stop = EarlyStopping(monitor='val_accuracy', \n",
        "                           patience=5,verbose=1,mode='auto')\n",
        "\n",
        "lr = ReduceLROnPlateau(monitor='val_accuracy', \n",
        "                       factor=0.2,patience=5, \n",
        "                       min_lr=0.00001)\n",
        "\n",
        "callback = [early_stop,lr]"
      ],
      "metadata": {
        "id": "7-Pm_HK3Av8h"
      },
      "execution_count": null,
      "outputs": []
    },
    {
      "cell_type": "markdown",
      "source": [
        "# **Training the Model**"
      ],
      "metadata": {
        "id": "VJXGJ-X9kRIL"
      }
    },
    {
      "cell_type": "code",
      "source": [
        "result = model.fit(x=training_set, validation_data=testing_set, epochs=50)"
      ],
      "metadata": {
        "colab": {
          "base_uri": "https://localhost:8080/"
        },
        "id": "Pk7cIJq1Av5S",
        "outputId": "55c453a2-469d-465d-ab7e-7e4f8b0032b8"
      },
      "execution_count": null,
      "outputs": [
        {
          "output_type": "stream",
          "name": "stdout",
          "text": [
            "Epoch 1/50\n",
            "31/31 [==============================] - 2055s 67s/step - loss: 1.4721 - accuracy: 0.3351 - val_loss: 1.3550 - val_accuracy: 0.4419\n",
            "Epoch 2/50\n",
            "31/31 [==============================] - 37s 1s/step - loss: 1.2507 - accuracy: 0.4628 - val_loss: 1.2751 - val_accuracy: 0.4380\n",
            "Epoch 3/50\n",
            "31/31 [==============================] - 37s 1s/step - loss: 1.1535 - accuracy: 0.5217 - val_loss: 1.2381 - val_accuracy: 0.4881\n",
            "Epoch 4/50\n",
            "31/31 [==============================] - 37s 1s/step - loss: 1.1045 - accuracy: 0.5530 - val_loss: 1.1190 - val_accuracy: 0.5589\n",
            "Epoch 5/50\n",
            "31/31 [==============================] - 37s 1s/step - loss: 1.0838 - accuracy: 0.5458 - val_loss: 1.1060 - val_accuracy: 0.5720\n",
            "Epoch 6/50\n",
            "31/31 [==============================] - 36s 1s/step - loss: 1.0347 - accuracy: 0.5843 - val_loss: 1.0886 - val_accuracy: 0.5797\n",
            "Epoch 7/50\n",
            "31/31 [==============================] - 36s 1s/step - loss: 1.0046 - accuracy: 0.6007 - val_loss: 1.1330 - val_accuracy: 0.5497\n",
            "Epoch 8/50\n",
            "31/31 [==============================] - 36s 1s/step - loss: 0.9783 - accuracy: 0.6198 - val_loss: 1.0408 - val_accuracy: 0.5874\n",
            "Epoch 9/50\n",
            "31/31 [==============================] - 37s 1s/step - loss: 0.9629 - accuracy: 0.6274 - val_loss: 1.0323 - val_accuracy: 0.5928\n",
            "Epoch 10/50\n",
            "31/31 [==============================] - 37s 1s/step - loss: 0.9122 - accuracy: 0.6491 - val_loss: 1.1109 - val_accuracy: 0.5689\n",
            "Epoch 11/50\n",
            "31/31 [==============================] - 36s 1s/step - loss: 0.9003 - accuracy: 0.6452 - val_loss: 1.0391 - val_accuracy: 0.6005\n",
            "Epoch 12/50\n",
            "31/31 [==============================] - 36s 1s/step - loss: 0.8702 - accuracy: 0.6652 - val_loss: 1.0087 - val_accuracy: 0.6105\n",
            "Epoch 13/50\n",
            "31/31 [==============================] - 36s 1s/step - loss: 0.8720 - accuracy: 0.6603 - val_loss: 0.9977 - val_accuracy: 0.6174\n",
            "Epoch 14/50\n",
            "31/31 [==============================] - 36s 1s/step - loss: 0.8317 - accuracy: 0.6738 - val_loss: 0.9825 - val_accuracy: 0.6320\n",
            "Epoch 15/50\n",
            "31/31 [==============================] - 36s 1s/step - loss: 0.8192 - accuracy: 0.6801 - val_loss: 0.9814 - val_accuracy: 0.6374\n",
            "Epoch 16/50\n",
            "31/31 [==============================] - 36s 1s/step - loss: 0.7989 - accuracy: 0.6814 - val_loss: 1.0268 - val_accuracy: 0.6320\n",
            "Epoch 17/50\n",
            "31/31 [==============================] - 36s 1s/step - loss: 0.7914 - accuracy: 0.6926 - val_loss: 0.9344 - val_accuracy: 0.6443\n",
            "Epoch 18/50\n",
            "31/31 [==============================] - 36s 1s/step - loss: 0.7658 - accuracy: 0.7018 - val_loss: 1.0206 - val_accuracy: 0.6313\n",
            "Epoch 19/50\n",
            "31/31 [==============================] - 36s 1s/step - loss: 0.7510 - accuracy: 0.7126 - val_loss: 0.9371 - val_accuracy: 0.6490\n",
            "Epoch 20/50\n",
            "31/31 [==============================] - 36s 1s/step - loss: 0.7352 - accuracy: 0.7133 - val_loss: 1.0658 - val_accuracy: 0.6320\n",
            "Epoch 21/50\n",
            "31/31 [==============================] - 36s 1s/step - loss: 0.7217 - accuracy: 0.7189 - val_loss: 0.9659 - val_accuracy: 0.6490\n",
            "Epoch 22/50\n",
            "31/31 [==============================] - 36s 1s/step - loss: 0.6825 - accuracy: 0.7261 - val_loss: 0.9446 - val_accuracy: 0.6744\n",
            "Epoch 23/50\n",
            "31/31 [==============================] - 36s 1s/step - loss: 0.6799 - accuracy: 0.7439 - val_loss: 0.9601 - val_accuracy: 0.6713\n",
            "Epoch 24/50\n",
            "31/31 [==============================] - 36s 1s/step - loss: 0.6736 - accuracy: 0.7406 - val_loss: 0.9823 - val_accuracy: 0.6551\n",
            "Epoch 25/50\n",
            "31/31 [==============================] - 36s 1s/step - loss: 0.6613 - accuracy: 0.7439 - val_loss: 0.9370 - val_accuracy: 0.6721\n",
            "Epoch 26/50\n",
            "31/31 [==============================] - 35s 1s/step - loss: 0.6503 - accuracy: 0.7551 - val_loss: 0.9078 - val_accuracy: 0.6821\n",
            "Epoch 27/50\n",
            "31/31 [==============================] - 36s 1s/step - loss: 0.6377 - accuracy: 0.7561 - val_loss: 0.9548 - val_accuracy: 0.6551\n",
            "Epoch 28/50\n",
            "31/31 [==============================] - 36s 1s/step - loss: 0.6138 - accuracy: 0.7676 - val_loss: 0.9288 - val_accuracy: 0.6759\n",
            "Epoch 29/50\n",
            "31/31 [==============================] - 36s 1s/step - loss: 0.6203 - accuracy: 0.7640 - val_loss: 0.9415 - val_accuracy: 0.6782\n",
            "Epoch 30/50\n",
            "31/31 [==============================] - 36s 1s/step - loss: 0.5989 - accuracy: 0.7725 - val_loss: 1.0048 - val_accuracy: 0.6574\n",
            "Epoch 31/50\n",
            "31/31 [==============================] - 36s 1s/step - loss: 0.6049 - accuracy: 0.7679 - val_loss: 1.0259 - val_accuracy: 0.6443\n",
            "Epoch 32/50\n",
            "31/31 [==============================] - 36s 1s/step - loss: 0.5708 - accuracy: 0.7821 - val_loss: 1.0009 - val_accuracy: 0.6721\n",
            "Epoch 33/50\n",
            "31/31 [==============================] - 36s 1s/step - loss: 0.5717 - accuracy: 0.7828 - val_loss: 1.0137 - val_accuracy: 0.6582\n",
            "Epoch 34/50\n",
            "31/31 [==============================] - 36s 1s/step - loss: 0.5851 - accuracy: 0.7762 - val_loss: 0.9494 - val_accuracy: 0.6697\n",
            "Epoch 35/50\n",
            "31/31 [==============================] - ETA: 0s - loss: 0.5602 - accuracy: 0.7956Epoch 36/50\n",
            "31/31 [==============================] - 36s 1s/step - loss: 0.5469 - accuracy: 0.7900 - val_loss: 0.9310 - val_accuracy: 0.6759\n",
            "Epoch 37/50\n",
            "31/31 [==============================] - 35s 1s/step - loss: 0.5314 - accuracy: 0.7979 - val_loss: 0.9659 - val_accuracy: 0.6682\n",
            "Epoch 38/50\n",
            "31/31 [==============================] - 36s 1s/step - loss: 0.5340 - accuracy: 0.8002 - val_loss: 1.0093 - val_accuracy: 0.6798\n",
            "Epoch 39/50\n",
            "31/31 [==============================] - 36s 1s/step - loss: 0.5355 - accuracy: 0.7916 - val_loss: 0.9969 - val_accuracy: 0.6543\n",
            "Epoch 40/50\n",
            "31/31 [==============================] - 36s 1s/step - loss: 0.5097 - accuracy: 0.8127 - val_loss: 1.0362 - val_accuracy: 0.6821\n",
            "Epoch 41/50\n",
            "31/31 [==============================] - 36s 1s/step - loss: 0.4972 - accuracy: 0.8071 - val_loss: 1.0144 - val_accuracy: 0.6705\n",
            "Epoch 42/50\n",
            "31/31 [==============================] - 36s 1s/step - loss: 0.5107 - accuracy: 0.7930 - val_loss: 1.0111 - val_accuracy: 0.6628\n",
            "Epoch 43/50\n",
            "31/31 [==============================] - 35s 1s/step - loss: 0.5282 - accuracy: 0.7913 - val_loss: 1.0701 - val_accuracy: 0.6436\n",
            "Epoch 44/50\n",
            "31/31 [==============================] - 36s 1s/step - loss: 0.5010 - accuracy: 0.8048 - val_loss: 1.0510 - val_accuracy: 0.6697\n",
            "Epoch 45/50\n",
            "31/31 [==============================] - 36s 1s/step - loss: 0.4628 - accuracy: 0.8321 - val_loss: 1.0500 - val_accuracy: 0.6836\n",
            "Epoch 46/50\n",
            "31/31 [==============================] - 36s 1s/step - loss: 0.4526 - accuracy: 0.8199 - val_loss: 0.9628 - val_accuracy: 0.6798\n",
            "Epoch 47/50\n",
            "31/31 [==============================] - 36s 1s/step - loss: 0.4829 - accuracy: 0.8157 - val_loss: 1.0886 - val_accuracy: 0.6751\n",
            "Epoch 48/50\n",
            "31/31 [==============================] - 40s 1s/step - loss: 0.4536 - accuracy: 0.8302 - val_loss: 0.9929 - val_accuracy: 0.6782\n",
            "Epoch 49/50\n",
            "31/31 [==============================] - 37s 1s/step - loss: 0.4610 - accuracy: 0.8226 - val_loss: 1.0542 - val_accuracy: 0.6659\n",
            "Epoch 50/50\n",
            "31/31 [==============================] - 37s 1s/step - loss: 0.4441 - accuracy: 0.8315 - val_loss: 1.0284 - val_accuracy: 0.6721\n"
          ]
        }
      ]
    },
    {
      "cell_type": "markdown",
      "source": [
        "# **Loss and Accuracy check using plot**"
      ],
      "metadata": {
        "id": "MidSaFLikILZ"
      }
    },
    {
      "cell_type": "code",
      "source": [
        "plt.plot(result.history['loss'], label='train loss')\n",
        "plt.plot(result.history['val_loss'], label='val loss')\n",
        "plt.legend()\n",
        "plt.show()\n",
        "\n",
        "# plot the accuracy\n",
        "plt.plot(result.history['accuracy'], label='train acc')\n",
        "plt.plot(result.history['val_accuracy'], label='val acc')\n",
        "plt.legend()\n",
        "plt.show()"
      ],
      "metadata": {
        "id": "3ct9Or9UAv2u",
        "colab": {
          "base_uri": "https://localhost:8080/",
          "height": 513
        },
        "outputId": "5e3cbe1f-fdef-4da9-9dcc-48fac0cee91f"
      },
      "execution_count": null,
      "outputs": [
        {
          "output_type": "display_data",
          "data": {
            "text/plain": [
              "<Figure size 432x288 with 1 Axes>"
            ],
            "image/png": "[encoded data removed]"
          },
          "metadata": {
            "needs_background": "light"
          }
        },
        {
          "output_type": "display_data",
          "data": {
            "text/plain": [
              "<Figure size 432x288 with 1 Axes>"
            ],
            "image/png": "[encoded data removed]"
          },
          "metadata": {
            "needs_background": "light"
          }
        }
      ]
    },
    {
      "cell_type": "markdown",
      "source": [
        "# **Save the Model**"
      ],
      "metadata": {
        "id": "I1QcNJTzkCHx"
      }
    },
    {
      "cell_type": "code",
      "source": [
        "model.save('flower.h5')"
      ],
      "metadata": {
        "id": "oIziXo8Ch5XC"
      },
      "execution_count": null,
      "outputs": []
    },
    {
      "cell_type": "markdown",
      "source": [
        "# **Testing the Model**"
      ],
      "metadata": {
        "id": "BdKPjFHtj3bY"
      }
    },
    {
      "cell_type": "code",
      "source": [
        "training_set.class_indices"
      ],
      "metadata": {
        "colab": {
          "base_uri": "https://localhost:8080/"
        },
        "id": "5fD75qmGh5Tq",
        "outputId": "3ceb688c-783c-47ed-9a06-641eac22cb98"
      },
      "execution_count": null,
      "outputs": [
        {
          "output_type": "execute_result",
          "data": {
            "text/plain": [
              "{'daisy': 0, 'dandelion': 1, 'rose': 2, 'sunflower': 3, 'tulip': 4}"
            ]
          },
          "metadata": {},
          "execution_count": 19
        }
      ]
    },
    {
      "cell_type": "code",
      "source": [
        "classes = ['Daisy','Dandelion','Rose','Sunflower','Tulip'] \n",
        "def testing(img):\n",
        "    img = image.load_img(img,target_size=(64,64)) \n",
        "    x = image.img_to_array(img) \n",
        "    x = np.expand_dims(x,axis=0) \n",
        "    pred = np.argmax(model.predict(x)) \n",
        "    return print(\"Predicted class as:\",classes[pred])\n",
        "\n",
        "def img_show(img):\n",
        "    img1 = image.load_img(img,target_size=(64,64)) \n",
        "    plt.imshow(img1)"
      ],
      "metadata": {
        "id": "YAMngKNah5Q-"
      },
      "execution_count": null,
      "outputs": []
    },
    {
      "cell_type": "code",
      "source": [
        "#test1\n",
        "img_show('/content/rose.webp')\n",
        "testing('/content/rose.webp')"
      ],
      "metadata": {
        "colab": {
          "base_uri": "https://localhost:8080/",
          "height": 285
        },
        "id": "EC59MEQLh5OT",
        "outputId": "a166abf7-703b-42f2-c600-b9f55a5bf2a5"
      },
      "execution_count": null,
      "outputs": [
        {
          "output_type": "stream",
          "name": "stdout",
          "text": [
            "Predicted class as: Rose\n"
          ]
        },
        {
          "output_type": "display_data",
          "data": {
            "text/plain": [
              "<Figure size 432x288 with 1 Axes>"
            ],
            "image/png": "[encoded data removed]"
          },
          "metadata": {
            "needs_background": "light"
          }
        }
      ]
    },
    {
      "cell_type": "markdown",
      "source": [
        "# **Conclusion:**\n",
        "The dataset has about 4317 images from 5 different classes.\n",
        "\n",
        "Each classes have more than 500 images for training the data.\n",
        "\n",
        "30% of the data taken for validation.\n",
        "\n",
        "The accuracy of the model is around 80%.\n",
        "\n",
        "The validation accuracy is around 70%.\n",
        "\n",
        "The model is built with 2 layered convolutional network considering 1344 trainable parameters.\n",
        "\n",
        "Testing the model with unknown images gives 95% accuracy."
      ],
      "metadata": {
        "id": "IRuWOVI_jmce"
      }
    },
    {
      "cell_type": "code",
      "source": [],
      "metadata": {
        "id": "BNBZq-2Fh5MG"
      },
      "execution_count": null,
      "outputs": []
    },
    {
      "cell_type": "code",
      "source": [],
      "metadata": {
        "id": "aw7oDVFVh5Jo"
      },
      "execution_count": null,
      "outputs": []
    },
    {
      "cell_type": "code",
      "source": [],
      "metadata": {
        "id": "gCI8Qp7Gh5Gw"
      },
      "execution_count": null,
      "outputs": []
    }
  ]
}